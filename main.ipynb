{
 "cells": [
  {
   "cell_type": "code",
   "execution_count": 1,
   "metadata": {},
   "outputs": [],
   "source": [
    "from pathlib import Path\n",
    "import subprocess\n",
    "import json, pickle,sys,glob\n",
    "import simplekml, xmltodict\n",
    "from shapely.geometry import Polygon, Point\n",
    "import yaml"
   ]
  },
  {
   "cell_type": "code",
   "execution_count": null,
   "metadata": {},
   "outputs": [],
   "source": [
    "# base directory\n",
    "BASE_DIR = Path().parent.resolve()\n",
    "\n",
    "with open(\"config.yaml\", \"r\") as yf:\n",
    "    config = yaml.safe_load(yf)\n",
    "\n",
    "# just to add collect script available on path\n",
    "sys.path.append(Path(config[\"paths\"][\"mymodules\"]).resolve())"
   ]
  },
  {
   "cell_type": "code",
   "execution_count": null,
   "metadata": {},
   "outputs": [],
   "source": [
    "# reading config from yaml\n",
    "company_name = config[\"analysis\"][\"company\"]\n",
    "country_name = config[\"analysis\"][\"country\"]\n",
    "city_name = config[\"analysis\"][\"city\"]\n",
    "\n",
    "current_date = str(config[\"analysis\"][\"date\"][\"current_month\"])\n",
    "\n",
    "# output folder\n",
    "output_folder = Path(config[\"paths\"][\"data\"][\"output\"]).resolve()"
   ]
  },
  {
   "cell_type": "code",
   "execution_count": 1,
   "metadata": {},
   "outputs": [],
   "source": [
    "# from mymodules.myscripts import *\n",
    "from mymodules.aisight.naqsha import *"
   ]
  },
  {
   "cell_type": "code",
   "execution_count": 2,
   "metadata": {},
   "outputs": [
    {
     "name": "stdout",
     "output_type": "stream",
     "text": [
      "Tif Dimensions:  Width: 68  ||  Height: 65\n",
      "Caching & Converting Tif Pixels . . . . .\n"
     ]
    },
    {
     "name": "stderr",
     "output_type": "stream",
     "text": [
      "100%|██████████| 65/65 [00:00<00:00, 1301.98it/s]\n"
     ]
    },
    {
     "ename": "OSError",
     "evalue": "exception: access violation writing 0x000002012125FD80",
     "output_type": "error",
     "traceback": [
      "\u001b[1;31m---------------------------------------------------------------------------\u001b[0m",
      "\u001b[1;31mOSError\u001b[0m                                   Traceback (most recent call last)",
      "Cell \u001b[1;32mIn[2], line 1\u001b[0m\n\u001b[1;32m----> 1\u001b[0m ptif \u001b[38;5;241m=\u001b[39m \u001b[43mPopulationTif\u001b[49m\u001b[43m(\u001b[49m\u001b[43mfile\u001b[49m\u001b[38;5;241;43m=\u001b[39;49m\u001b[38;5;124;43m\"\u001b[39;49m\u001b[38;5;124;43m./extra/tifs/population.tif\u001b[39;49m\u001b[38;5;124;43m\"\u001b[39;49m\u001b[43m,\u001b[49m\u001b[43mscale\u001b[49m\u001b[38;5;241;43m=\u001b[39;49m\u001b[38;5;241;43m1.0\u001b[39;49m\u001b[43m)\u001b[49m\n",
      "File \u001b[1;32md:\\Office\\rtm\\mymodules\\aisight\\naqsha\\polygons\\tif\\population_tif.py:36\u001b[0m, in \u001b[0;36mPopulationTif.__init__\u001b[1;34m(self, file, scale)\u001b[0m\n\u001b[0;32m     33\u001b[0m \u001b[38;5;28mself\u001b[39m\u001b[38;5;241m.\u001b[39m_pixel_polygons \u001b[38;5;241m=\u001b[39m \u001b[38;5;28mself\u001b[39m\u001b[38;5;241m.\u001b[39mcache_pixels()\n\u001b[0;32m     35\u001b[0m \u001b[38;5;66;03m# create str_tree (Spatial Indexing) for faster intersections # str_tree QUERIES ARE VERY VERY EFFICIENT\u001b[39;00m\n\u001b[1;32m---> 36\u001b[0m \u001b[38;5;28mself\u001b[39m\u001b[38;5;241m.\u001b[39m_str_tree \u001b[38;5;241m=\u001b[39m \u001b[43mSTRtree\u001b[49m\u001b[43m(\u001b[49m\u001b[38;5;28;43mself\u001b[39;49m\u001b[38;5;241;43m.\u001b[39;49m\u001b[43m_pixel_polygons\u001b[49m\u001b[43m)\u001b[49m\n",
      "File \u001b[1;32mc:\\Users\\hassa\\miniconda3\\envs\\office\\lib\\site-packages\\shapely\\strtree.py:134\u001b[0m, in \u001b[0;36mSTRtree.__init__\u001b[1;34m(self, geoms, items, node_capacity)\u001b[0m\n\u001b[0;32m    131\u001b[0m \u001b[38;5;28;01mfor\u001b[39;00m idx, geom \u001b[38;5;129;01min\u001b[39;00m \u001b[38;5;28mzip\u001b[39m(\u001b[38;5;28mself\u001b[39m\u001b[38;5;241m.\u001b[39m_idxs, \u001b[38;5;28mself\u001b[39m\u001b[38;5;241m.\u001b[39m_geoms):\n\u001b[0;32m    132\u001b[0m     \u001b[38;5;66;03m# filter empty geometries out of the input\u001b[39;00m\n\u001b[0;32m    133\u001b[0m     \u001b[38;5;28;01mif\u001b[39;00m geom \u001b[38;5;129;01mis\u001b[39;00m \u001b[38;5;129;01mnot\u001b[39;00m \u001b[38;5;28;01mNone\u001b[39;00m \u001b[38;5;129;01mand\u001b[39;00m \u001b[38;5;129;01mnot\u001b[39;00m geom\u001b[38;5;241m.\u001b[39mis_empty:\n\u001b[1;32m--> 134\u001b[0m         \u001b[43mlgeos\u001b[49m\u001b[38;5;241;43m.\u001b[39;49m\u001b[43mGEOSSTRtree_insert\u001b[49m\u001b[43m(\u001b[49m\u001b[38;5;28;43mself\u001b[39;49m\u001b[38;5;241;43m.\u001b[39;49m\u001b[43m_tree\u001b[49m\u001b[43m,\u001b[49m\u001b[43m \u001b[49m\u001b[43mgeom\u001b[49m\u001b[38;5;241;43m.\u001b[39;49m\u001b[43m_geom\u001b[49m\u001b[43m,\u001b[49m\u001b[43m \u001b[49m\u001b[43mctypes\u001b[49m\u001b[38;5;241;43m.\u001b[39;49m\u001b[43mpy_object\u001b[49m\u001b[43m(\u001b[49m\u001b[43midx\u001b[49m\u001b[43m)\u001b[49m\u001b[43m)\u001b[49m\n\u001b[0;32m    135\u001b[0m         i \u001b[38;5;241m+\u001b[39m\u001b[38;5;241m=\u001b[39m \u001b[38;5;241m1\u001b[39m\n\u001b[0;32m    136\u001b[0m \u001b[38;5;28mself\u001b[39m\u001b[38;5;241m.\u001b[39m_n_geoms \u001b[38;5;241m=\u001b[39m i\n",
      "\u001b[1;31mOSError\u001b[0m: exception: access violation writing 0x000002012125FD80"
     ]
    }
   ],
   "source": [
    "ptif = PopulationTif(file=\"./extra/tifs/population.tif\",scale=1.0)"
   ]
  },
  {
   "cell_type": "code",
   "execution_count": 3,
   "metadata": {},
   "outputs": [
    {
     "data": {
      "text/plain": [
       "('3.6.2', '1.8.5')"
      ]
     },
     "execution_count": 3,
     "metadata": {},
     "output_type": "execute_result"
    }
   ],
   "source": [
    "import shapely\n",
    "from osgeo import gdal\n",
    "\n",
    "gdal.__version__, shapely.__version__"
   ]
  },
  {
   "cell_type": "code",
   "execution_count": null,
   "metadata": {},
   "outputs": [],
   "source": [
    "sec = SEC(file=\"./extra/Faisalabad City SEC-4 (1).kml\", ptif=ptif)"
   ]
  },
  {
   "cell_type": "code",
   "execution_count": null,
   "metadata": {},
   "outputs": [],
   "source": []
  }
 ],
 "metadata": {
  "kernelspec": {
   "display_name": "office",
   "language": "python",
   "name": "python3"
  },
  "language_info": {
   "codemirror_mode": {
    "name": "ipython",
    "version": 3
   },
   "file_extension": ".py",
   "mimetype": "text/x-python",
   "name": "python",
   "nbconvert_exporter": "python",
   "pygments_lexer": "ipython3",
   "version": "3.9.21"
  }
 },
 "nbformat": 4,
 "nbformat_minor": 2
}

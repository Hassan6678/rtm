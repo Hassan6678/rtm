{
 "cells": [
  {
   "cell_type": "code",
   "execution_count": 60,
   "metadata": {},
   "outputs": [],
   "source": [
    "from pathlib import Path\n",
    "import subprocess\n",
    "import pandas as pd\n",
    "import json, pickle,sys,glob\n",
    "import simplekml, xmltodict\n",
    "from shapely.geometry import Polygon, Point\n",
    "import yaml\n",
    "from mymodules.utils import *\n",
    "from mymodules.aisight.naqsha import *"
   ]
  },
  {
   "cell_type": "code",
   "execution_count": 61,
   "metadata": {},
   "outputs": [],
   "source": [
    "# base directory\n",
    "BASE_DIR = Path().parent.resolve()\n",
    "\n",
    "with open(\"config.yaml\", \"r\") as yf:\n",
    "    config = yaml.safe_load(yf)\n",
    "\n",
    "# just to add collect script available on path\n",
    "sys.path.append(Path(config[\"paths\"][\"mymodules\"]).resolve())"
   ]
  },
  {
   "cell_type": "code",
   "execution_count": 62,
   "metadata": {},
   "outputs": [],
   "source": [
    "# reading config from yaml\n",
    "company = config[\"analysis\"][\"company\"]\n",
    "country = config[\"analysis\"][\"country\"]\n",
    "area = config[\"analysis\"][\"area\"]\n",
    "\n",
    "# output folder\n",
    "# output_folder = Path(config[\"paths\"][\"data\"][\"output\"]).resolve()"
   ]
  },
  {
   "cell_type": "code",
   "execution_count": 63,
   "metadata": {},
   "outputs": [],
   "source": [
    "# update paths section\n",
    "config['paths'] = replace_placeholders(config['paths'], company, country)\n",
    "\n",
    "# print(yaml.dump(config, default_flow_style=False))\n"
   ]
  },
  {
   "cell_type": "code",
   "execution_count": null,
   "metadata": {},
   "outputs": [],
   "source": []
  }
 ],
 "metadata": {
  "kernelspec": {
   "display_name": "office",
   "language": "python",
   "name": "python3"
  },
  "language_info": {
   "codemirror_mode": {
    "name": "ipython",
    "version": 3
   },
   "file_extension": ".py",
   "mimetype": "text/x-python",
   "name": "python",
   "nbconvert_exporter": "python",
   "pygments_lexer": "ipython3",
   "version": "3.9.21"
  }
 },
 "nbformat": 4,
 "nbformat_minor": 2
}

{
 "cells": [
  {
   "cell_type": "code",
   "execution_count": 1,
   "metadata": {},
   "outputs": [],
   "source": [
    "from pathlib import Path\n",
    "import subprocess\n",
    "import pandas as pd\n",
    "import json, pickle,sys,glob\n",
    "import simplekml, xmltodict\n",
    "from shapely.geometry import Polygon, Point\n",
    "import yaml\n",
    "from mymodules.utils import *\n",
    "from mymodules.myscripts import kml_mapper\n",
    "from mymodules.aisight.naqsha import *"
   ]
  },
  {
   "cell_type": "code",
   "execution_count": 2,
   "metadata": {},
   "outputs": [],
   "source": [
    "# base directory\n",
    "BASE_DIR = Path().parent.resolve()\n",
    "\n",
    "with open(\"config.yaml\", \"r\") as yf:\n",
    "    config = yaml.safe_load(yf)\n",
    "\n",
    "# just to add collect script available on path\n",
    "sys.path.append(Path(config[\"paths\"][\"mymodules\"]).resolve())"
   ]
  },
  {
   "cell_type": "code",
   "execution_count": 3,
   "metadata": {},
   "outputs": [],
   "source": [
    "# reading config from yaml\n",
    "company = config[\"analysis\"][\"company\"]\n",
    "country = config[\"analysis\"][\"country\"]\n",
    "area_name = config[\"analysis\"][\"area\"]\n",
    "\n",
    "# output folder\n",
    "# output_folder = Path(config[\"paths\"][\"data\"][\"output\"]).resolve()"
   ]
  },
  {
   "cell_type": "code",
   "execution_count": null,
   "metadata": {},
   "outputs": [],
   "source": [
    "# update paths section\n",
    "config['paths'] = replace_placeholders(config['paths'], company, country)\n",
    "\n",
    "print(yaml.dump(config, default_flow_style=False))"
   ]
  },
  {
   "cell_type": "code",
   "execution_count": null,
   "metadata": {},
   "outputs": [],
   "source": [
    "geo_dir = Path(config[\"paths\"]['data']).resolve() / area_name\n",
    "geo_dir"
   ]
  },
  {
   "cell_type": "code",
   "execution_count": null,
   "metadata": {},
   "outputs": [],
   "source": [
    "boundary, ptif, sec, whitespace = kml_mapper.setup(geo_dir)"
   ]
  },
  {
   "cell_type": "code",
   "execution_count": null,
   "metadata": {},
   "outputs": [],
   "source": [
    "'''\n",
    "get intersected box of tif with boundry\n",
    "'''"
   ]
  },
  {
   "cell_type": "code",
   "execution_count": null,
   "metadata": {},
   "outputs": [],
   "source": [
    "boundary._polygons[0]\n",
    "TIF_data = ptif.to_dict(boundary._polygons[0])\n",
    "TIF_data[0]"
   ]
  },
  {
   "cell_type": "code",
   "execution_count": null,
   "metadata": {},
   "outputs": [],
   "source": [
    "boundary_polygon = boundary._polygons[0]\n",
    "TIF_data = ptif.to_dict()\n",
    "output_dict = []\n",
    "for i in TIF_data:\n",
    "    coordinates = TIF_data[i]['coordinates']\n",
    "    population = TIF_data[i]['population']\n",
    "    pixel_poly = Polygon(coordinates)\n",
    "    area_percent = (\n",
    "        pixel_poly.intersection(boundary_polygon).area / pixel_poly.area\n",
    "    )\n",
    "\n",
    "    name=round(population*area_percent)\n",
    "    name_initial = int(name)\n",
    "    name = (name_initial / 100) * 255\n",
    "    name = hex(int(name)).split('x')[-1].zfill(2)\n",
    "    \n",
    "    if name_initial > 100: color = f'ff0000ff'\n",
    "    else: color = f'ff0000{name}'\n",
    "    output_dict.append({\n",
    "        \"coordinates\": [\n",
    "            {\"lat\": i[1], \"lng\": i[0]} for i in coordinates\n",
    "        ],\n",
    "        \"population\" : population,\n",
    "        \"color\" : color\n",
    "    })"
   ]
  },
  {
   "cell_type": "code",
   "execution_count": 2,
   "metadata": {},
   "outputs": [],
   "source": [
    "df = pd.read_csv('./extra/Untitled 22_Makkah region_Xmap.csv') \n",
    "df.to_excel('./extra/22_Makkah region_Xmap.xlsx',index=False)"
   ]
  },
  {
   "cell_type": "code",
   "execution_count": null,
   "metadata": {},
   "outputs": [],
   "source": []
  }
 ],
 "metadata": {
  "kernelspec": {
   "display_name": "office",
   "language": "python",
   "name": "python3"
  },
  "language_info": {
   "codemirror_mode": {
    "name": "ipython",
    "version": 3
   },
   "file_extension": ".py",
   "mimetype": "text/x-python",
   "name": "python",
   "nbconvert_exporter": "python",
   "pygments_lexer": "ipython3",
   "version": "3.9.21"
  }
 },
 "nbformat": 4,
 "nbformat_minor": 2
}

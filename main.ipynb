{
 "cells": [
  {
   "cell_type": "code",
   "execution_count": null,
   "metadata": {},
   "outputs": [],
   "source": [
    "# conda install -c conda-forge --strict-channel-priority gdal==3.5.2 pyproj==3.4.1 shapely==1.8.4 pandas numpy pyyaml tqdm requests simplekml xmltodict"
   ]
  },
  {
   "cell_type": "code",
   "execution_count": 1,
   "metadata": {},
   "outputs": [],
   "source": [
    "from pathlib import Path\n",
    "# import subprocess\n",
    "import pandas as pd\n",
    "import json, pickle,sys,glob\n",
    "import simplekml, xmltodict\n",
    "from shapely.geometry import Polygon, Point\n",
    "import yaml\n",
    "from mymodules.utils import *\n",
    "from mymodules.myscripts import kml_mapper\n",
    "from mymodules.aisight.naqsha import *"
   ]
  },
  {
   "cell_type": "code",
   "execution_count": 2,
   "metadata": {},
   "outputs": [],
   "source": [
    "# base directory\n",
    "BASE_DIR = Path().parent.resolve()\n",
    "\n",
    "with open(\"config.yaml\", \"r\") as yf:\n",
    "    config = yaml.safe_load(yf)\n",
    "\n",
    "# just to add collect script available on path\n",
    "sys.path.append(Path(config[\"paths\"][\"mymodules\"]).resolve())"
   ]
  },
  {
   "cell_type": "code",
   "execution_count": 3,
   "metadata": {},
   "outputs": [],
   "source": [
    "# reading config from yaml\n",
    "company = config[\"analysis\"][\"company\"]\n",
    "country = config[\"analysis\"][\"country\"]\n",
    "area_name = config[\"analysis\"][\"area\"]\n",
    "\n",
    "# output folder\n",
    "# output_folder = Path(config[\"paths\"][\"data\"][\"output\"]).resolve()"
   ]
  },
  {
   "cell_type": "code",
   "execution_count": 4,
   "metadata": {},
   "outputs": [
    {
     "name": "stdout",
     "output_type": "stream",
     "text": [
      "analysis:\n",
      "  area: 6731dc27c09ec86f8546f091\n",
      "  company: bat\n",
      "  country: czech\n",
      "  exclude: []\n",
      "geo:\n",
      "  tif:\n",
      "    scale: 1.0\n",
      "paths:\n",
      "  data: projects/bat/czech/data\n",
      "  date:\n",
      "    current_month: 2024-12-31\n",
      "  logs: projects/bat/czech/logs\n",
      "  mymodules: mymodules\n",
      "  output: projects/bat/czech/output\n",
      "  raw: projects/bat/czech/raw\n",
      "process:\n",
      "  debug: 0\n",
      "  multiprocessing: 1\n",
      "\n"
     ]
    }
   ],
   "source": [
    "# update paths section\n",
    "config['paths'] = replace_placeholders(config['paths'], company, country)\n",
    "\n",
    "print(yaml.dump(config, default_flow_style=False))"
   ]
  },
  {
   "cell_type": "code",
   "execution_count": 5,
   "metadata": {},
   "outputs": [
    {
     "data": {
      "text/plain": [
       "WindowsPath('D:/Office/rtm/projects/bat/czech/data/6731dc27c09ec86f8546f091')"
      ]
     },
     "execution_count": 5,
     "metadata": {},
     "output_type": "execute_result"
    }
   ],
   "source": [
    "geo_dir = Path(config[\"paths\"]['data']).resolve() / area_name\n",
    "geo_dir"
   ]
  },
  {
   "cell_type": "code",
   "execution_count": 6,
   "metadata": {},
   "outputs": [
    {
     "name": "stdout",
     "output_type": "stream",
     "text": [
      "Tif Dimensions:  Width: 251  ||  Height: 120\n",
      "Caching & Converting Tif Pixels . . . . .\n"
     ]
    },
    {
     "name": "stderr",
     "output_type": "stream",
     "text": [
      "100%|██████████| 120/120 [00:00<00:00, 296.70it/s]\n"
     ]
    },
    {
     "name": "stdout",
     "output_type": "stream",
     "text": [
      "Propagating SEC . . .\n",
      "Propagating SEC . . .\n"
     ]
    }
   ],
   "source": [
    "boundary, ptif, sec, whitespace = kml_mapper.setup(geo_dir)"
   ]
  },
  {
   "cell_type": "code",
   "execution_count": null,
   "metadata": {},
   "outputs": [],
   "source": [
    "'''\n",
    "get intersected box of tif with boundry\n",
    "'''"
   ]
  },
  {
   "cell_type": "code",
   "execution_count": null,
   "metadata": {},
   "outputs": [],
   "source": [
    "boundary._polygons[0]\n",
    "TIF_data = ptif.to_dict(boundary._polygons[0])\n",
    "x, y = TIF_data[0]['position']\n",
    "f\"{x}_{y}\""
   ]
  },
  {
   "cell_type": "code",
   "execution_count": null,
   "metadata": {},
   "outputs": [],
   "source": []
  },
  {
   "cell_type": "code",
   "execution_count": null,
   "metadata": {},
   "outputs": [],
   "source": []
  }
 ],
 "metadata": {
  "kernelspec": {
   "display_name": "office",
   "language": "python",
   "name": "python3"
  },
  "language_info": {
   "codemirror_mode": {
    "name": "ipython",
    "version": 3
   },
   "file_extension": ".py",
   "mimetype": "text/x-python",
   "name": "python",
   "nbconvert_exporter": "python",
   "pygments_lexer": "ipython3",
   "version": "3.10.18"
  }
 },
 "nbformat": 4,
 "nbformat_minor": 2
}
